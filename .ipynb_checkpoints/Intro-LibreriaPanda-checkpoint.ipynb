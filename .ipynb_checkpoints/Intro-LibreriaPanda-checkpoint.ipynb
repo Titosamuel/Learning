{
 "cells": [
  {
   "cell_type": "markdown",
   "metadata": {},
   "source": [
    "**Librería Panda**\n",
    "Proporciona herramientas de análisis y manipulación de datos de alto rendimiento"
   ]
  },
  {
   "cell_type": "markdown",
   "metadata": {},
   "source": [
    "<hr>"
   ]
  },
  {
   "cell_type": "markdown",
   "metadata": {},
   "source": [
    "En Panda se puede trabajar con índices para cada fila y nombres de columnas. Los nombres dependen del programador o del archivo que se agregue a la librería."
   ]
  },
  {
   "cell_type": "markdown",
   "metadata": {},
   "source": [
    "**Panda** proporciona herramientas, métodos y funcionalidad para las estructuras básicas de datos."
   ]
  },
  {
   "cell_type": "code",
   "execution_count": 2,
   "metadata": {},
   "outputs": [],
   "source": [
    "import pandas as pd\n",
    "import numpy as np"
   ]
  },
  {
   "cell_type": "code",
   "execution_count": 4,
   "metadata": {},
   "outputs": [
    {
     "name": "stdout",
     "output_type": "stream",
     "text": [
      "      Col1 Col2\n",
      "Fila1   11   22\n",
      "Fila2   33   44\n"
     ]
    }
   ],
   "source": [
    "data = np.array([['','Col1','Col2'],['Fila1',11,22], ['Fila2',33,44]])\n",
    "print(pd.DataFrame(data=data[1:,1:], index=data[1:,0], columns=data[0,1:]))"
   ]
  },
  {
   "cell_type": "code",
   "execution_count": 5,
   "metadata": {},
   "outputs": [
    {
     "name": "stdout",
     "output_type": "stream",
     "text": [
      "DataFrame:\n",
      "   0  1  2\n",
      "0  1  2  3\n",
      "1  4  5  6\n",
      "2  7  8  9\n"
     ]
    }
   ],
   "source": [
    "#Creación de dataframe\n",
    "df = pd.DataFrame(np.array([[1,2,3], [4,5,6], [7,8,9]]))\n",
    "print('DataFrame:')\n",
    "print(df)"
   ]
  },
  {
   "cell_type": "code",
   "execution_count": 6,
   "metadata": {},
   "outputs": [
    {
     "name": "stdout",
     "output_type": "stream",
     "text": [
      "Series:\n",
      "Argentina         Buenos Aires\n",
      "Chile        Santiago de Chile\n",
      "Colombia                Bogotá\n",
      "Perú                      Lima\n",
      "dtype: object\n"
     ]
    }
   ],
   "source": [
    "#Crear una serie en Panda\n",
    "series = pd.Series({\"Argentina\":\"Buenos Aires\",\"Chile\":\"Santiago de Chile\",\"Colombia\":\"Bogotá\",\"Perú\":\"Lima\"})\n",
    "print('Series:')\n",
    "print(series)"
   ]
  },
  {
   "cell_type": "code",
   "execution_count": 7,
   "metadata": {},
   "outputs": [
    {
     "name": "stdout",
     "output_type": "stream",
     "text": [
      "Forma del DataFrame:\n",
      "(3, 3)\n"
     ]
    }
   ],
   "source": [
    "#Forma del DataFrame (cuantas filas y columnas tiene)\n",
    "print('Forma del DataFrame:')\n",
    "print(df.shape)"
   ]
  },
  {
   "cell_type": "code",
   "execution_count": 9,
   "metadata": {},
   "outputs": [
    {
     "name": "stdout",
     "output_type": "stream",
     "text": [
      "Altura del DataFrame:\n",
      "3\n"
     ]
    }
   ],
   "source": [
    "#Altura del DataFrame\n",
    "print('Altura del DataFrame:')\n",
    "print(len(df.index))"
   ]
  },
  {
   "cell_type": "code",
   "execution_count": 12,
   "metadata": {},
   "outputs": [
    {
     "name": "stdout",
     "output_type": "stream",
     "text": [
      "Estadísticas del DataFrame:\n",
      "         0    1    2\n",
      "count  3.0  3.0  3.0\n",
      "mean   4.0  5.0  6.0\n",
      "std    3.0  3.0  3.0\n",
      "min    1.0  2.0  3.0\n",
      "25%    2.5  3.5  4.5\n",
      "50%    4.0  5.0  6.0\n",
      "75%    5.5  6.5  7.5\n",
      "max    7.0  8.0  9.0\n"
     ]
    }
   ],
   "source": [
    "#la función describe, indica detalles estadísticos del frame, para columnas numéricas\n",
    "print('Estadísticas del DataFrame:')\n",
    "print(df.describe())"
   ]
  },
  {
   "cell_type": "code",
   "execution_count": 11,
   "metadata": {},
   "outputs": [
    {
     "name": "stdout",
     "output_type": "stream",
     "text": [
      "Media de las columnas DataFrame:\n",
      "0    4.0\n",
      "1    5.0\n",
      "2    6.0\n",
      "dtype: float64\n"
     ]
    }
   ],
   "source": [
    "#Media de las columnas del DataFrame\n",
    "print('Media de las columnas DataFrame:')\n",
    "print(df.mean())"
   ]
  },
  {
   "cell_type": "code",
   "execution_count": 13,
   "metadata": {},
   "outputs": [
    {
     "name": "stdout",
     "output_type": "stream",
     "text": [
      "Correlación del DataFrame:\n",
      "     0    1    2\n",
      "0  1.0  1.0  1.0\n",
      "1  1.0  1.0  1.0\n",
      "2  1.0  1.0  1.0\n"
     ]
    }
   ],
   "source": [
    "#Conocer la correlación del DataFrame\n",
    "print('Correlación del DataFrame:')\n",
    "print(df.corr())"
   ]
  },
  {
   "cell_type": "code",
   "execution_count": 14,
   "metadata": {},
   "outputs": [
    {
     "name": "stdout",
     "output_type": "stream",
     "text": [
      "Conteo de datos NO NULOS de c.columna del DataFrame:\n",
      "0    3\n",
      "1    3\n",
      "2    3\n",
      "dtype: int64\n"
     ]
    }
   ],
   "source": [
    "#Cuenta los datos NO NULOS de cada columna del DataFrame\n",
    "print('Conteo de datos NO NULOS de c.columna del DataFrame:')\n",
    "print(df.count())"
   ]
  },
  {
   "cell_type": "code",
   "execution_count": 15,
   "metadata": {},
   "outputs": [
    {
     "name": "stdout",
     "output_type": "stream",
     "text": [
      "Valor más alto de la colmuna del DataFrame:\n",
      "0    7\n",
      "1    8\n",
      "2    9\n",
      "dtype: int64\n"
     ]
    }
   ],
   "source": [
    "#Valor más alto de cada columna del DataFrame\n",
    "print('Valor más alto de la colmuna del DataFrame:')\n",
    "print(df.max())"
   ]
  },
  {
   "cell_type": "code",
   "execution_count": 16,
   "metadata": {},
   "outputs": [
    {
     "name": "stdout",
     "output_type": "stream",
     "text": [
      "valor mínimo de la colmuna del DataFrame:\n",
      "0    1\n",
      "1    2\n",
      "2    3\n",
      "dtype: int64\n"
     ]
    }
   ],
   "source": [
    "#Valor míinimo de cada columna del DataFrame\n",
    "print('valor mínimo de la colmuna del DataFrame:')\n",
    "print(df.min())"
   ]
  },
  {
   "cell_type": "code",
   "execution_count": 17,
   "metadata": {},
   "outputs": [
    {
     "name": "stdout",
     "output_type": "stream",
     "text": [
      "Mediana de la colmuna del DataFrame:\n",
      "0    4.0\n",
      "1    5.0\n",
      "2    6.0\n",
      "dtype: float64\n"
     ]
    }
   ],
   "source": [
    "#Conocer la mediana de cada colmuna del DataFrame\n",
    "print('Mediana de la colmuna del DataFrame:')\n",
    "print(df.median())"
   ]
  },
  {
   "cell_type": "code",
   "execution_count": 18,
   "metadata": {},
   "outputs": [
    {
     "name": "stdout",
     "output_type": "stream",
     "text": [
      "Desviación estándar de la columna del DataFrame:\n",
      "0    3.0\n",
      "1    3.0\n",
      "2    3.0\n",
      "dtype: float64\n"
     ]
    }
   ],
   "source": [
    "#Conocer la desviación estándar de cada columna del DataFrame\n",
    "print('Desviación estándar de la columna del DataFrame:')\n",
    "print(df.std())"
   ]
  },
  {
   "cell_type": "code",
   "execution_count": 19,
   "metadata": {},
   "outputs": [
    {
     "name": "stdout",
     "output_type": "stream",
     "text": [
      "Primera columna del DataFrame:\n",
      "0    1\n",
      "1    4\n",
      "2    7\n",
      "Name: 0, dtype: int64\n"
     ]
    }
   ],
   "source": [
    "#Seleccionar la primera columna del DataFrame\n",
    "print('Primera columna del DataFrame:')\n",
    "print(df[0]) #se debe colocar el índice de la columna que queremos ver\n"
   ]
  },
  {
   "cell_type": "code",
   "execution_count": 21,
   "metadata": {},
   "outputs": [
    {
     "name": "stdout",
     "output_type": "stream",
     "text": [
      "Dos columnas del DataFrame:\n",
      "   0  1\n",
      "0  1  2\n",
      "1  4  5\n",
      "2  7  8\n"
     ]
    }
   ],
   "source": [
    "#Seleccionar dos columnas del DataFrame\n",
    "print('Dos columnas del DataFrame:')\n",
    "print(df[[0,1]])"
   ]
  },
  {
   "cell_type": "code",
   "execution_count": 22,
   "metadata": {},
   "outputs": [
    {
     "name": "stdout",
     "output_type": "stream",
     "text": [
      "Valor de la primera fila y la última colmuna del DF:\n",
      "3\n"
     ]
    }
   ],
   "source": [
    "#Seleccionar el valor de la primera fila y la última columna del DataFrame\n",
    "print('Valor de la primera fila y la última colmuna del DF:')\n",
    "print(df.iloc[0][2])"
   ]
  },
  {
   "cell_type": "code",
   "execution_count": 23,
   "metadata": {},
   "outputs": [
    {
     "name": "stdout",
     "output_type": "stream",
     "text": [
      "Valores de la primera fila del DF:\n",
      "0    1\n",
      "1    2\n",
      "2    3\n",
      "Name: 0, dtype: int64\n"
     ]
    }
   ],
   "source": [
    "#Seleccionar los valores de la primera fila del DF\n",
    "print('Valores de la primera fila del DF:')\n",
    "print(df.loc[0])"
   ]
  },
  {
   "cell_type": "code",
   "execution_count": 24,
   "metadata": {},
   "outputs": [],
   "source": [
    "#abrir un archivo en la libreria Pandas\n",
    "df = pd.read_csv('/Users/usuario/Documents/GitHub/MLYoutube/titanic_custom.csv')"
   ]
  },
  {
   "cell_type": "code",
   "execution_count": 28,
   "metadata": {},
   "outputs": [
    {
     "name": "stdout",
     "output_type": "stream",
     "text": [
      "Datos nulos en el DF:\n",
      "      Unnamed: 0  pclass  survived   name    sex    age  sibsp  parch  ticket  \\\n",
      "0          False   False     False  False  False  False  False  False   False   \n",
      "1          False   False     False  False  False  False  False  False   False   \n",
      "2          False   False     False  False  False  False  False  False   False   \n",
      "3          False   False     False  False  False  False  False  False   False   \n",
      "4          False   False     False  False  False  False  False  False   False   \n",
      "...          ...     ...       ...    ...    ...    ...    ...    ...     ...   \n",
      "1304       False   False     False  False  False  False  False  False   False   \n",
      "1305       False   False     False  False  False   True  False  False   False   \n",
      "1306       False   False     False  False  False  False  False  False   False   \n",
      "1307       False   False     False  False  False  False  False  False   False   \n",
      "1308       False   False     False  False  False  False  False  False   False   \n",
      "\n",
      "       fare  cabin  embarked   boat   body  home.dest  \n",
      "0     False  False     False  False   True      False  \n",
      "1     False  False     False  False   True      False  \n",
      "2     False  False     False   True   True      False  \n",
      "3     False  False     False   True  False      False  \n",
      "4     False  False     False   True   True      False  \n",
      "...     ...    ...       ...    ...    ...        ...  \n",
      "1304  False   True     False   True  False       True  \n",
      "1305  False   True     False   True   True       True  \n",
      "1306  False   True     False   True  False       True  \n",
      "1307  False   True     False   True   True       True  \n",
      "1308  False   True     False   True   True       True  \n",
      "\n",
      "[1309 rows x 15 columns]\n"
     ]
    }
   ],
   "source": [
    "#Verificar si hay datos nulos en el DF\n",
    "print('Datos nulos en el DF:')\n",
    "print(df.isnull())"
   ]
  },
  {
   "cell_type": "code",
   "execution_count": 30,
   "metadata": {},
   "outputs": [
    {
     "name": "stdout",
     "output_type": "stream",
     "text": [
      "Suma datos nulos en le DF:\n",
      "Unnamed: 0       0\n",
      "pclass           0\n",
      "survived         0\n",
      "name             0\n",
      "sex              0\n",
      "age            263\n",
      "sibsp            0\n",
      "parch            0\n",
      "ticket           0\n",
      "fare             1\n",
      "cabin         1014\n",
      "embarked         2\n",
      "boat           823\n",
      "body          1188\n",
      "home.dest      564\n",
      "dtype: int64\n"
     ]
    }
   ],
   "source": [
    "#suma de datos nulos en el DF x Columna\n",
    "print('Suma datos nulos en le DF:')\n",
    "print(df.isnull().sum())"
   ]
  },
  {
   "cell_type": "code",
   "execution_count": 32,
   "metadata": {},
   "outputs": [
    {
     "name": "stdout",
     "output_type": "stream",
     "text": [
      "Empty DataFrame\n",
      "Columns: [Unnamed: 0, pclass, survived, name, sex, age, sibsp, parch, ticket, fare, cabin, embarked, boat, body, home.dest]\n",
      "Index: []\n"
     ]
    }
   ],
   "source": [
    "#eliminar los valores perdidos\n",
    "print(df.dropna()) #eliminar filas"
   ]
  },
  {
   "cell_type": "code",
   "execution_count": 34,
   "metadata": {},
   "outputs": [
    {
     "name": "stdout",
     "output_type": "stream",
     "text": [
      "      Unnamed: 0  pclass  survived  \\\n",
      "0              0       1         1   \n",
      "1              1       1         1   \n",
      "2              2       1         0   \n",
      "3              3       1         0   \n",
      "4              4       1         0   \n",
      "...          ...     ...       ...   \n",
      "1304        1304       3         0   \n",
      "1305        1305       3         0   \n",
      "1306        1306       3         0   \n",
      "1307        1307       3         0   \n",
      "1308        1308       3         0   \n",
      "\n",
      "                                                 name     sex  sibsp  parch  \\\n",
      "0                       Allen, Miss. Elisabeth Walton  female      0      0   \n",
      "1                      Allison, Master. Hudson Trevor    male      1      2   \n",
      "2                        Allison, Miss. Helen Loraine  female      1      2   \n",
      "3                Allison, Mr. Hudson Joshua Creighton    male      1      2   \n",
      "4     Allison, Mrs. Hudson J C (Bessie Waldo Daniels)  female      1      2   \n",
      "...                                               ...     ...    ...    ...   \n",
      "1304                             Zabour, Miss. Hileni  female      1      0   \n",
      "1305                            Zabour, Miss. Thamine  female      1      0   \n",
      "1306                        Zakarian, Mr. Mapriededer    male      0      0   \n",
      "1307                              Zakarian, Mr. Ortin    male      0      0   \n",
      "1308                               Zimmerman, Mr. Leo    male      0      0   \n",
      "\n",
      "      ticket  \n",
      "0      24160  \n",
      "1     113781  \n",
      "2     113781  \n",
      "3     113781  \n",
      "4     113781  \n",
      "...      ...  \n",
      "1304    2665  \n",
      "1305    2665  \n",
      "1306    2656  \n",
      "1307    2670  \n",
      "1308  315082  \n",
      "\n",
      "[1309 rows x 8 columns]\n"
     ]
    }
   ],
   "source": [
    "#eliminar los valores perdidos\n",
    "print(df.dropna(axis=1)) #eliminar columnas con datos perdidos"
   ]
  },
  {
   "cell_type": "code",
   "execution_count": 42,
   "metadata": {},
   "outputs": [
    {
     "ename": "SyntaxError",
     "evalue": "unexpected EOF while parsing (<ipython-input-42-c7f1f6ae5fca>, line 2)",
     "output_type": "error",
     "traceback": [
      "\u001b[0;36m  File \u001b[0;32m\"<ipython-input-42-c7f1f6ae5fca>\"\u001b[0;36m, line \u001b[0;32m2\u001b[0m\n\u001b[0;31m    print(df.isnull().sum()\u001b[0m\n\u001b[0m                           ^\u001b[0m\n\u001b[0;31mSyntaxError\u001b[0m\u001b[0;31m:\u001b[0m unexpected EOF while parsing\n"
     ]
    }
   ],
   "source": [
    "print('Suma datos nulos en le DF:')\n",
    "print(df.isnull().sum()"
   ]
  },
  {
   "cell_type": "code",
   "execution_count": 40,
   "metadata": {},
   "outputs": [
    {
     "name": "stdout",
     "output_type": "stream",
     "text": [
      "Reemplazar los valores perdidos por la media\n",
      "      Unnamed: 0  pclass  survived  \\\n",
      "0              0       1         1   \n",
      "1              1       1         1   \n",
      "2              2       1         0   \n",
      "3              3       1         0   \n",
      "4              4       1         0   \n",
      "...          ...     ...       ...   \n",
      "1304        1304       3         0   \n",
      "1305        1305       3         0   \n",
      "1306        1306       3         0   \n",
      "1307        1307       3         0   \n",
      "1308        1308       3         0   \n",
      "\n",
      "                                                 name     sex        age  \\\n",
      "0                       Allen, Miss. Elisabeth Walton  female  29.000000   \n",
      "1                      Allison, Master. Hudson Trevor    male   0.916700   \n",
      "2                        Allison, Miss. Helen Loraine  female   2.000000   \n",
      "3                Allison, Mr. Hudson Joshua Creighton    male  30.000000   \n",
      "4     Allison, Mrs. Hudson J C (Bessie Waldo Daniels)  female  25.000000   \n",
      "...                                               ...     ...        ...   \n",
      "1304                             Zabour, Miss. Hileni  female  14.500000   \n",
      "1305                            Zabour, Miss. Thamine  female  29.881135   \n",
      "1306                        Zakarian, Mr. Mapriededer    male  26.500000   \n",
      "1307                              Zakarian, Mr. Ortin    male  27.000000   \n",
      "1308                               Zimmerman, Mr. Leo    male  29.000000   \n",
      "\n",
      "      sibsp  parch  ticket      fare    cabin embarked boat        body  \\\n",
      "0         0      0   24160  211.3375       B5        S    2  160.809917   \n",
      "1         1      2  113781  151.5500  C22 C26        S   11  160.809917   \n",
      "2         1      2  113781  151.5500  C22 C26        S  NaN  160.809917   \n",
      "3         1      2  113781  151.5500  C22 C26        S  NaN  135.000000   \n",
      "4         1      2  113781  151.5500  C22 C26        S  NaN  160.809917   \n",
      "...     ...    ...     ...       ...      ...      ...  ...         ...   \n",
      "1304      1      0    2665   14.4542      NaN        C  NaN  328.000000   \n",
      "1305      1      0    2665   14.4542      NaN        C  NaN  160.809917   \n",
      "1306      0      0    2656    7.2250      NaN        C  NaN  304.000000   \n",
      "1307      0      0    2670    7.2250      NaN        C  NaN  160.809917   \n",
      "1308      0      0  315082    7.8750      NaN        S  NaN  160.809917   \n",
      "\n",
      "                            home.dest  \n",
      "0                        St Louis, MO  \n",
      "1     Montreal, PQ / Chesterville, ON  \n",
      "2     Montreal, PQ / Chesterville, ON  \n",
      "3     Montreal, PQ / Chesterville, ON  \n",
      "4     Montreal, PQ / Chesterville, ON  \n",
      "...                               ...  \n",
      "1304                              NaN  \n",
      "1305                              NaN  \n",
      "1306                              NaN  \n",
      "1307                              NaN  \n",
      "1308                              NaN  \n",
      "\n",
      "[1309 rows x 15 columns]\n"
     ]
    }
   ],
   "source": [
    "#Reemplaza los valores perdidos\n",
    "print('Reemplazar los valores perdidos por la media')\n",
    "print(df.fillna(df.mean()))"
   ]
  },
  {
   "cell_type": "markdown",
   "metadata": {},
   "source": [
    "**Se recomienda revisar la página web oficial de panda para aprender más de la Librería**"
   ]
  },
  {
   "cell_type": "code",
   "execution_count": null,
   "metadata": {},
   "outputs": [],
   "source": []
  }
 ],
 "metadata": {
  "kernelspec": {
   "display_name": "Python 3",
   "language": "python",
   "name": "python3"
  },
  "language_info": {
   "codemirror_mode": {
    "name": "ipython",
    "version": 3
   },
   "file_extension": ".py",
   "mimetype": "text/x-python",
   "name": "python",
   "nbconvert_exporter": "python",
   "pygments_lexer": "ipython3",
   "version": "3.7.4"
  }
 },
 "nbformat": 4,
 "nbformat_minor": 2
}
