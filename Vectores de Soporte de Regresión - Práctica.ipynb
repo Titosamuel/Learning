{
 "cells": [
  {
   "cell_type": "code",
   "execution_count": 1,
   "metadata": {},
   "outputs": [],
   "source": [
    "import numpy as np\n",
    "from sklearn import datasets, linear_model\n",
    "import matplotlib.pyplot as plt"
   ]
  },
  {
   "cell_type": "code",
   "execution_count": 2,
   "metadata": {},
   "outputs": [
    {
     "name": "stdout",
     "output_type": "stream",
     "text": [
      "dict_keys(['data', 'target', 'feature_names', 'DESCR', 'filename'])\n",
      "\n"
     ]
    }
   ],
   "source": [
    "#Verifico la información contenida en el dataset\n",
    "boston = datasets.load_boston()\n",
    "print(boston.keys())\n",
    "print()\n",
    "prin"
   ]
  },
  {
   "cell_type": "markdown",
   "metadata": {},
   "source": [
    "**PREPARAR LA DATA VECTORES DE SOPORTE REGRESIÓN**"
   ]
  },
  {
   "cell_type": "code",
   "execution_count": 3,
   "metadata": {},
   "outputs": [],
   "source": [
    "#Seleccionamos solamente la columna 6 del dataset\n",
    "X_svr = boston.data[:, np.newaxis, 5]"
   ]
  },
  {
   "cell_type": "code",
   "execution_count": 4,
   "metadata": {},
   "outputs": [],
   "source": [
    "#Defino los datos correspondientes a las etiquetas\n",
    "Y_svr = boston.target"
   ]
  },
  {
   "cell_type": "code",
   "execution_count": 6,
   "metadata": {},
   "outputs": [
    {
     "data": {
      "image/png": "[encoded data removed]",
      "text/plain": [
       "<Figure size 432x288 with 1 Axes>"
      ]
     },
     "metadata": {
      "needs_background": "light"
     },
     "output_type": "display_data"
    }
   ],
   "source": [
    "#graficamos los datos correspondientes\n",
    "plt.scatter(X_svr, Y_svr)\n",
    "plt.show()"
   ]
  },
  {
   "cell_type": "markdown",
   "metadata": {},
   "source": [
    "**IMPLEMENTACIÓN DE VECTORES DE SOPORTE REGRESION**"
   ]
  },
  {
   "cell_type": "code",
   "execution_count": 7,
   "metadata": {},
   "outputs": [],
   "source": [
    "from sklearn.model_selection import train_test_split\n",
    "\n",
    "#Separo los datos de \"train\" en entrenamiento y\n",
    "#prueba para probar los algoritmos.\n",
    "\n",
    "X_train, X_test, Y_train, Y_test = train_test_split(X_svr, Y_svr, test_size=0.2)"
   ]
  },
  {
   "cell_type": "markdown",
   "metadata": {},
   "source": [
    "**IMPORTAMOS EL ALGORITMO**"
   ]
  },
  {
   "cell_type": "code",
   "execution_count": 11,
   "metadata": {},
   "outputs": [],
   "source": [
    "#defino el algoritmo a utilizar\n",
    "from sklearn.svm import SVR\n",
    "\n",
    "#defino el algoritmo a utilizar\n",
    "svr = SVR(kernel ='linear', C=1.0, epsilon=0.2)\n",
    "#el Kernel tendrá un un documento a parte para\n",
    "#explicarlo. Se define 'linear' ya que nuestros\n",
    "#datos tienen forma lineal."
   ]
  },
  {
   "cell_type": "markdown",
   "metadata": {},
   "source": [
    "**Kernel:** ('linear')tendrá un un documento a parte para explicarlo. Se define 'linear' ya que nuestros datos tienen forma lineal.\n",
    "\n",
    "**C:** (1.0) es una constante de la fórmula de vectores de soporte regresión, que determina el equilibrio entre la regularidad dela función y la cuantía hasta el cual toleramos desviaciones mayores que las bandas de soporte. Si colocamos un valor de C muy bajo, nuestro modelo aceptará más errores por lo que colocar un valor igual a 1 es adecuado para construir este modelo.\n",
    "\n",
    "**Epsilon:** (0.2)Variable que controla el error cometido por la función de regresión al aproximar a las bandas."
   ]
  },
  {
   "cell_type": "code",
   "execution_count": 12,
   "metadata": {},
   "outputs": [
    {
     "data": {
      "text/plain": [
       "SVR(C=1.0, cache_size=200, coef0=0.0, degree=3, epsilon=0.2,\n",
       "    gamma='auto_deprecated', kernel='linear', max_iter=-1, shrinking=True,\n",
       "    tol=0.001, verbose=False)"
      ]
     },
     "execution_count": 12,
     "metadata": {},
     "output_type": "execute_result"
    }
   ],
   "source": [
    "#entreno el modelo\n",
    "svr.fit(X_train, Y_train)"
   ]
  },
  {
   "cell_type": "code",
   "execution_count": 13,
   "metadata": {},
   "outputs": [],
   "source": [
    "##Realizo una predicción\n",
    "Y_pred = svr.predict(X_test)"
   ]
  },
  {
   "cell_type": "code",
   "execution_count": 14,
   "metadata": {},
   "outputs": [
    {
     "data": {
      "image/png": "[encoded data removed]",
      "text/plain": [
       "<Figure size 432x288 with 1 Axes>"
      ]
     },
     "metadata": {
      "needs_background": "light"
     },
     "output_type": "display_data"
    }
   ],
   "source": [
    "#Graficamos los datos junto con el modelo\n",
    "plt.scatter(X_test, Y_test)\n",
    "plt.plot(X_test, Y_pred, color='red', linewidth=3)\n",
    "plt.show()"
   ]
  },
  {
   "cell_type": "code",
   "execution_count": 15,
   "metadata": {},
   "outputs": [
    {
     "name": "stdout",
     "output_type": "stream",
     "text": [
      "[21.33838461 17.78097618 11.21973563 29.98688011 25.01376832 24.9230181\n",
      " 20.98445877 18.64310322 17.08219952 40.35962969 19.61413052 24.36036677\n",
      " 28.65285195 15.75724638 22.38201208 17.25462493 24.85041793 21.48358495\n",
      " 23.38933947  7.73492737 17.49057549 18.86997876 26.84692266 24.59631733\n",
      " 20.43088246 29.41515375 21.61971028 18.35270253 17.52687557 27.22807357\n",
      " 28.82527735 19.02425412 21.92826101 19.84100606 23.08078874 23.00818857\n",
      " 10.01275777 21.01168383 40.81338077 27.52754928 30.72195685 17.98970167\n",
      " 35.26854263 20.24030701 30.01410517 19.04240417 18.92442889 36.48459551\n",
      " 15.01309462 28.52580164 20.34013224 22.04623629 21.43820985 24.0790411\n",
      " 28.87972748 18.84275369 27.89962516 11.73701185 25.07729347 14.01484225\n",
      " 19.30557979 19.75025584 16.49232312 31.64760904 14.17819264 13.3614407\n",
      " 26.55652198 20.7031331  20.94815868 14.43229324 16.59214836 22.78131303\n",
      " 10.03998283 19.37817996 14.55934354 23.21691406 16.27452261 25.57641965\n",
      " 25.09544351  6.52794951 18.94257893 20.59423284 22.44553723 21.99178616\n",
      " 20.50348263 27.71812473 23.94291578 25.22249381 13.40681581 22.79946307\n",
      " 34.57884099 24.08811613 28.81620233 35.31391773 19.87730615 24.73244265\n",
      " 30.72195685 20.15863181 18.27102734 26.57467202 40.46852995 25.68531991]\n"
     ]
    }
   ],
   "source": [
    "print(Y_pred)"
   ]
  },
  {
   "cell_type": "code",
   "execution_count": 16,
   "metadata": {},
   "outputs": [
    {
     "name": "stdout",
     "output_type": "stream",
     "text": [
      "[17.8 19.9  9.7 33.  29.8 29.4 22.6 10.8 19.3 48.3 20.5 16.7 29.6 11.3\n",
      " 21.6 13.1 24.4 19.9 15.  10.5 18.2 18.8 32.4 23.3 23.2 29.  25.  18.4\n",
      " 19.3 31.1 23.9  8.3 50.  21.4  7.2 18.1 11.8 20.5 50.  14.1 34.7 19.8\n",
      " 46.7 11.9 30.3 17.2 20.9 45.4 15.2 41.3 20.4 19.4 24.1 22.  33.1 20.9\n",
      " 31.2  8.1 32.5 20.  19.6 12.7 17.2 33.3 20.8 13.1 29.  20.  21.9 19.7\n",
      " 15.6 20.7 13.8  8.4 19.3 22.2 17.6 30.1 24.8  7.  12.7 21.2 24.1 10.2\n",
      " 20.6 32.  24.8 24.1  7.2 21.2 42.3 17.1 34.9 35.2 17.5 14.1 34.9 19.2\n",
      " 14.5 14.9 42.8 27.9]\n"
     ]
    }
   ],
   "source": [
    "print(Y_test)"
   ]
  },
  {
   "cell_type": "code",
   "execution_count": 17,
   "metadata": {},
   "outputs": [
    {
     "name": "stdout",
     "output_type": "stream",
     "text": [
      "Precisión del modelo\n",
      "0.4381715011915962\n",
      "0.6362883627208067\n"
     ]
    }
   ],
   "source": [
    "#Reviso la precisión del modelo\n",
    "print('Precisión del modelo')\n",
    "print(svr.score(X_train, Y_train))\n",
    "print(svr.score(X_test, Y_test))"
   ]
  },
  {
   "cell_type": "markdown",
   "metadata": {},
   "source": [
    "**Video**\n",
    "https://www.youtube.com/watch?v=zvB0cshd0TM&list=PLJjOveEiVE4Dk48EI7I-67PEleEC5nxc3&index=24"
   ]
  },
  {
   "cell_type": "code",
   "execution_count": null,
   "metadata": {},
   "outputs": [],
   "source": []
  }
 ],
 "metadata": {
  "kernelspec": {
   "display_name": "Python 3",
   "language": "python",
   "name": "python3"
  },
  "language_info": {
   "codemirror_mode": {
    "name": "ipython",
    "version": 3
   },
   "file_extension": ".py",
   "mimetype": "text/x-python",
   "name": "python",
   "nbconvert_exporter": "python",
   "pygments_lexer": "ipython3",
   "version": "3.7.4"
  }
 },
 "nbformat": 4,
 "nbformat_minor": 2
}
